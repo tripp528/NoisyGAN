{
 "cells": [
  {
   "cell_type": "code",
   "execution_count": 3,
   "metadata": {},
   "outputs": [
    {
     "name": "stdout",
     "output_type": "stream",
     "text": [
      "/Users/trippgordon/Desktop/Code/sonic/NoisyGAN\n"
     ]
    }
   ],
   "source": [
    "%load_ext autoreload\n",
    "%cd .."
   ]
  },
  {
   "cell_type": "code",
   "execution_count": 6,
   "metadata": {},
   "outputs": [],
   "source": [
    "%autoreload 2\n",
    "%reload_ext autoreload\n",
    "from core import *"
   ]
  },
  {
   "cell_type": "code",
   "execution_count": null,
   "metadata": {},
   "outputs": [
    {
     "name": "stderr",
     "output_type": "stream",
     "text": [
      "WARNING:absl:Using public TFDS GCS bucket to load NSynth. If not running on GCP, this will be very slow, and it is recommended you prepare the dataset locally with TFDS and set the data_dir appropriately.\n",
      "INFO:absl:Overwrite dataset info from restored data version.\n",
      "INFO:absl:Constructing tf.data.Dataset for split train, from gs://tfds-data/datasets/nsynth/gansynth_subset.f0_and_loudness/2.3.0\n"
     ]
    }
   ],
   "source": [
    "nsynth_provider = ddsp.training.data.NSynthTfds(split='train')\n",
    "nsynth_iter = real_sample_iter(nsynth_provider,batch_size=1)\n",
    "nsynth_batch = next(nsynth_iter)"
   ]
  },
  {
   "cell_type": "code",
   "execution_count": null,
   "metadata": {},
   "outputs": [],
   "source": [
    "describeSample(nsynth_batch)"
   ]
  },
  {
   "cell_type": "code",
   "execution_count": null,
   "metadata": {},
   "outputs": [],
   "source": [
    "tf_provider = FromTFRecords('./Data/piano/piano30s.tfrecord*')\n",
    "tf_iter = real_sample_iter(tf_provider,batch_size=1)\n",
    "tf_batch = next(tf_iter)"
   ]
  },
  {
   "cell_type": "code",
   "execution_count": null,
   "metadata": {},
   "outputs": [],
   "source": [
    "describeSample(tf_batch)"
   ]
  }
 ],
 "metadata": {
  "kernelspec": {
   "display_name": "Python 3",
   "language": "python",
   "name": "python3"
  },
  "language_info": {
   "codemirror_mode": {
    "name": "ipython",
    "version": 3
   },
   "file_extension": ".py",
   "mimetype": "text/x-python",
   "name": "python",
   "nbconvert_exporter": "python",
   "pygments_lexer": "ipython3",
   "version": "3.6.9"
  }
 },
 "nbformat": 4,
 "nbformat_minor": 4
}
