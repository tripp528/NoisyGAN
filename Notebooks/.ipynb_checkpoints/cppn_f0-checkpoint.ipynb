{
 "cells": [
  {
   "cell_type": "code",
   "execution_count": 1,
   "metadata": {},
   "outputs": [
    {
     "name": "stdout",
     "output_type": "stream",
     "text": [
      "/Users/trippgordon/Desktop/Code/sonic/NoisyGAN\n"
     ]
    }
   ],
   "source": [
    "%load_ext autoreload\n",
    "%cd .."
   ]
  },
  {
   "cell_type": "code",
   "execution_count": 2,
   "metadata": {},
   "outputs": [
    {
     "name": "stdout",
     "output_type": "stream",
     "text": [
      "/Users/trippgordon/Desktop/Code/sonic/NoisyGAN\r\n"
     ]
    }
   ],
   "source": [
    "%autoreload 2\n",
    "%reload_ext autoreload\n",
    "!pwd\n",
    "from core import *"
   ]
  },
  {
   "cell_type": "markdown",
   "metadata": {},
   "source": [
    "# Messing with cppn"
   ]
  },
  {
   "cell_type": "code",
   "execution_count": 33,
   "metadata": {},
   "outputs": [],
   "source": [
    "from tensorflow.keras import Sequential, Model\n",
    "from tensorflow.keras.layers import Conv2D,BatchNormalization,LeakyReLU,\\\n",
    "                                    Flatten,Dense,Reshape,Conv2DTranspose,\\\n",
    "                                    Input, Activation, BatchNormalization\n",
    "from tensorflow.keras.activations import sigmoid\n",
    "from tensorflow.keras.optimizers import Adam\n",
    "\n",
    "from ddsp.core import midi_to_hz\n",
    "from ddsp.spectral_ops import F0_RANGE, LD_RANGE"
   ]
  },
  {
   "cell_type": "code",
   "execution_count": 100,
   "metadata": {},
   "outputs": [],
   "source": [
    "class CPPN_f0(Model):\n",
    "\n",
    "    def __init__(self,\n",
    "                 n_nodes = 32,\n",
    "                 n_hidden = 3,\n",
    "                 activation = 'tanh',\n",
    "                 t_scale=1,\n",
    "                 z_scale=0.1,\n",
    "                 z_dim=16):\n",
    "\n",
    "        super().__init__()\n",
    "        self.t_scale = t_scale\n",
    "        self.z_scale = z_scale\n",
    "        self.z_dim = z_dim\n",
    "\n",
    "        # weight_init = tf.keras.initializers.RandomNormal(mean=0.0, stddev=1, seed=None)\n",
    "        weight_init = tf.keras.initializers.Ones()\n",
    "\n",
    "        # input layers\n",
    "        self.time_input = Dense(n_nodes,\n",
    "                         input_shape=(1000, 1),\n",
    "                         kernel_initializer=weight_init,\n",
    "                         use_bias=False)\n",
    "\n",
    "        self.z_input = Dense(n_nodes, input_shape=(1000, self.z_dim))\n",
    "\n",
    "        # fc model\n",
    "        self.fc_model = Sequential()\n",
    "        for i in range(n_hidden):\n",
    "            self.fc_model.add(Activation(activation))\n",
    "            self.fc_model.add(Dense(n_nodes, kernel_initializer=weight_init))\n",
    "        self.fc_model.add(Dense(1, kernel_initializer=weight_init))\n",
    "        self.fc_model.add(Activation(\"sigmoid\"))\n",
    "        self.fc_model.add(Activation(\"sigmoid\"))\n",
    "\n",
    "    def call(self,inputs=None):\n",
    "        z = self.z_scale * tf.random.uniform((1, self.z_dim),minval=-1.0, maxval=1.0) # (1, z_dim)\n",
    "        z = tf.linalg.matmul(tf.ones((1000,1)), z) # (1000, zdim)\n",
    "        Uz = self.z_input(z)\n",
    "\n",
    "        t = self.t_scale * tf.reshape(tf.range(-1,1,delta=(1/500), dtype='float32'), (1,1000,1))\n",
    "        Ut = self.time_input(t)\n",
    "\n",
    "        U = Ut + Uz\n",
    "        f0_scaled = self.fc_model(U)\n",
    "        return f0_scaled\n",
    "\n"
   ]
  },
  {
   "cell_type": "code",
   "execution_count": 107,
   "metadata": {},
   "outputs": [
    {
     "data": {
      "text/plain": [
       "[<matplotlib.lines.Line2D at 0x7fc841b6fac8>]"
      ]
     },
     "execution_count": 107,
     "metadata": {},
     "output_type": "execute_result"
    },
    {
     "data": {
      "image/png": "[encoded data removed]",
      "text/plain": [
       "<Figure size 432x288 with 1 Axes>"
      ]
     },
     "metadata": {},
     "output_type": "display_data"
    }
   ],
   "source": [
    "cppn_f0 = CPPN_f0(n_nodes = 16, n_hidden = 1, t_scale=0.5, z_scale=0.1, z_dim=8, activation=\"relu\")\n",
    "f0_scaled = cppn_f0(None)\n",
    "plt.plot(f0_scaled[0])"
   ]
  },
  {
   "cell_type": "code",
   "execution_count": 601,
   "metadata": {},
   "outputs": [
    {
     "data": {
      "text/plain": [
       "[<matplotlib.lines.Line2D at 0x7f8dd0ef3550>]"
      ]
     },
     "execution_count": 601,
     "metadata": {},
     "output_type": "execute_result"
    },
    {
     "data": {
      "image/png": "[encoded data removed]",
      "text/plain": [
       "<Figure size 432x288 with 1 Axes>"
      ]
     },
     "metadata": {},
     "output_type": "display_data"
    }
   ],
   "source": [
    "f0_scaled = cppn_f0(None)\n",
    "plt.plot(f0_scaled[0])"
   ]
  },
  {
   "cell_type": "code",
   "execution_count": null,
   "metadata": {},
   "outputs": [],
   "source": []
  }
 ],
 "metadata": {
  "kernelspec": {
   "display_name": "Python 3",
   "language": "python",
   "name": "python3"
  },
  "language_info": {
   "codemirror_mode": {
    "name": "ipython",
    "version": 3
   },
   "file_extension": ".py",
   "mimetype": "text/x-python",
   "name": "python",
   "nbconvert_exporter": "python",
   "pygments_lexer": "ipython3",
   "version": "3.6.9"
  }
 },
 "nbformat": 4,
 "nbformat_minor": 4
}
