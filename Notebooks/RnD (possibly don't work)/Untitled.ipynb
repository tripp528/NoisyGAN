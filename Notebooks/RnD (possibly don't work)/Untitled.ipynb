{
 "cells": [
  {
   "cell_type": "code",
   "execution_count": 8,
   "metadata": {},
   "outputs": [],
   "source": [
    "import tensorflow as tf\n",
    "from tensorflow.keras import Sequential, Model\n",
    "from tensorflow.keras.layers import Conv2D,BatchNormalization,LeakyReLU,\\\n",
    "                                    Flatten,Dense,Reshape,Conv2DTranspose,\\\n",
    "                                    Input, Activation, BatchNormalization, Layer"
   ]
  },
  {
   "cell_type": "code",
   "execution_count": 9,
   "metadata": {},
   "outputs": [],
   "source": [
    "latent_dim = 100"
   ]
  },
  {
   "cell_type": "code",
   "execution_count": 12,
   "metadata": {},
   "outputs": [],
   "source": [
    "generator = Sequential()\n",
    "# foundation for 1 x 125 signal\n",
    "n_nodes = 125 * 1 * 16\n",
    "generator.add(Dense(n_nodes, input_dim=latent_dim, dtype='float32'))\n",
    "generator.add(BatchNormalization())\n",
    "generator.add(LeakyReLU(alpha=0.2))\n",
    "generator.add(Reshape((1, 125, 16)))\n",
    "# upsample to 2 x 250\n",
    "generator.add(Conv2DTranspose(16, (3,3), strides=(2,2), padding='same'))\n",
    "generator.add(BatchNormalization())\n",
    "generator.add(LeakyReLU(alpha=0.2))\n",
    "# upsample to 4 x 500\n",
    "generator.add(Conv2DTranspose(16, (3,3), strides=(2,2), padding='same'))\n",
    "generator.add(BatchNormalization())\n",
    "generator.add(LeakyReLU(alpha=0.2))\n",
    "# upsample to 8 x 1000\n",
    "generator.add(Conv2DTranspose(16, (3,3), strides=(2,2), padding='same'))\n",
    "generator.add(BatchNormalization())\n",
    "generator.add(LeakyReLU(alpha=0.2))\n",
    "generator.add(Conv2D(1, (3,3), activation='sigmoid', padding='same'))"
   ]
  },
  {
   "cell_type": "code",
   "execution_count": 14,
   "metadata": {
    "collapsed": true
   },
   "outputs": [
    {
     "data": {
      "text/plain": [
       "<tf.Tensor: shape=(1, 8, 1000, 1), dtype=float32, numpy=\n",
       "array([[[[0.49972776],\n",
       "         [0.50011206],\n",
       "         [0.49980825],\n",
       "         ...,\n",
       "         [0.4974687 ],\n",
       "         [0.5005729 ],\n",
       "         [0.49953628]],\n",
       "\n",
       "        [[0.49881157],\n",
       "         [0.50011456],\n",
       "         [0.49836385],\n",
       "         ...,\n",
       "         [0.49809742],\n",
       "         [0.49805236],\n",
       "         [0.5003442 ]],\n",
       "\n",
       "        [[0.49918824],\n",
       "         [0.49992776],\n",
       "         [0.49986163],\n",
       "         ...,\n",
       "         [0.4986587 ],\n",
       "         [0.50072443],\n",
       "         [0.5000344 ]],\n",
       "\n",
       "        ...,\n",
       "\n",
       "        [[0.49793682],\n",
       "         [0.4982399 ],\n",
       "         [0.4989946 ],\n",
       "         ...,\n",
       "         [0.5007244 ],\n",
       "         [0.49636263],\n",
       "         [0.49997127]],\n",
       "\n",
       "        [[0.49818414],\n",
       "         [0.49886188],\n",
       "         [0.50163144],\n",
       "         ...,\n",
       "         [0.50204587],\n",
       "         [0.5013499 ],\n",
       "         [0.5046231 ]],\n",
       "\n",
       "        [[0.49824256],\n",
       "         [0.49919492],\n",
       "         [0.49904963],\n",
       "         ...,\n",
       "         [0.49921677],\n",
       "         [0.500934  ],\n",
       "         [0.500828  ]]]], dtype=float32)>"
      ]
     },
     "execution_count": 14,
     "metadata": {},
     "output_type": "execute_result"
    }
   ],
   "source": [
    "z = tf.random.normal((1,latent_dim))\n",
    "generator(z)"
   ]
  },
  {
   "cell_type": "code",
   "execution_count": 15,
   "metadata": {},
   "outputs": [
    {
     "name": "stdout",
     "output_type": "stream",
     "text": [
      "Model: \"sequential_4\"\n",
      "_________________________________________________________________\n",
      "Layer (type)                 Output Shape              Param #   \n",
      "=================================================================\n",
      "dense_2 (Dense)              (None, 2000)              202000    \n",
      "_________________________________________________________________\n",
      "batch_normalization_8 (Batch (None, 2000)              8000      \n",
      "_________________________________________________________________\n",
      "leaky_re_lu_8 (LeakyReLU)    (None, 2000)              0         \n",
      "_________________________________________________________________\n",
      "reshape_2 (Reshape)          (None, 1, 125, 16)        0         \n",
      "_________________________________________________________________\n",
      "conv2d_transpose_6 (Conv2DTr (None, 2, 250, 16)        2320      \n",
      "_________________________________________________________________\n",
      "batch_normalization_9 (Batch (None, 2, 250, 16)        64        \n",
      "_________________________________________________________________\n",
      "leaky_re_lu_9 (LeakyReLU)    (None, 2, 250, 16)        0         \n",
      "_________________________________________________________________\n",
      "conv2d_transpose_7 (Conv2DTr (None, 4, 500, 16)        2320      \n",
      "_________________________________________________________________\n",
      "batch_normalization_10 (Batc (None, 4, 500, 16)        64        \n",
      "_________________________________________________________________\n",
      "leaky_re_lu_10 (LeakyReLU)   (None, 4, 500, 16)        0         \n",
      "_________________________________________________________________\n",
      "conv2d_transpose_8 (Conv2DTr (None, 8, 1000, 16)       2320      \n",
      "_________________________________________________________________\n",
      "batch_normalization_11 (Batc (None, 8, 1000, 16)       64        \n",
      "_________________________________________________________________\n",
      "leaky_re_lu_11 (LeakyReLU)   (None, 8, 1000, 16)       0         \n",
      "_________________________________________________________________\n",
      "conv2d_4 (Conv2D)            (None, 8, 1000, 1)        145       \n",
      "=================================================================\n",
      "Total params: 217,297\n",
      "Trainable params: 213,201\n",
      "Non-trainable params: 4,096\n",
      "_________________________________________________________________\n"
     ]
    }
   ],
   "source": [
    "generator.summary()"
   ]
  },
  {
   "cell_type": "code",
   "execution_count": null,
   "metadata": {},
   "outputs": [],
   "source": []
  }
 ],
 "metadata": {
  "kernelspec": {
   "display_name": "Python 3",
   "language": "python",
   "name": "python3"
  },
  "language_info": {
   "codemirror_mode": {
    "name": "ipython",
    "version": 3
   },
   "file_extension": ".py",
   "mimetype": "text/x-python",
   "name": "python",
   "nbconvert_exporter": "python",
   "pygments_lexer": "ipython3",
   "version": "3.6.9"
  }
 },
 "nbformat": 4,
 "nbformat_minor": 4
}
