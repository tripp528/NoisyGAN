{
 "cells": [
  {
   "cell_type": "code",
   "execution_count": 1,
   "metadata": {},
   "outputs": [
    {
     "name": "stdout",
     "output_type": "stream",
     "text": [
      "2.1.0\n"
     ]
    }
   ],
   "source": [
    "import numpy as np\n",
    "import tensorflow as tf\n",
    "print(tf.__version__)"
   ]
  },
  {
   "cell_type": "code",
   "execution_count": 2,
   "metadata": {},
   "outputs": [
    {
     "data": {
      "text/plain": [
       "((60000, 28, 28), (60000,))"
      ]
     },
     "execution_count": 2,
     "metadata": {},
     "output_type": "execute_result"
    }
   ],
   "source": [
    "from tensorflow.keras.datasets import mnist\n",
    "\n",
    "(x_train, y_train), (x_test, y_test) = mnist.load_data()\n",
    "# (x_train, y_train) = (x_train[:100], y_train[:100])\n",
    "x_train.shape,y_train.shape"
   ]
  },
  {
   "cell_type": "markdown",
   "metadata": {},
   "source": [
    "### model"
   ]
  },
  {
   "cell_type": "code",
   "execution_count": 3,
   "metadata": {},
   "outputs": [],
   "source": [
    "from tensorflow.keras import Sequential\n",
    "from tensorflow.keras.layers import Conv2D,BatchNormalization,LeakyReLU,\\\n",
    "                                    Flatten,Dense,Reshape,Conv2DTranspose\n",
    "\n",
    "from tensorflow.keras.optimizers import Adam"
   ]
  },
  {
   "cell_type": "markdown",
   "metadata": {},
   "source": [
    "\n",
    "1. Downsample Using Strided Convolutions (e.g. don’t use pooling layers).\n",
    "2. Upsample Using Strided Convolutions (e.g. use the transpose convolutional layer).\n",
    "3. Use LeakyReLU (e.g. don’t use the standard ReLU).\n",
    "4. Use Batch Normalization (e.g. standardize layer outputs after the activation).\n",
    "5. Use Gaussian Weight Initialization (e.g. a mean of 0.0 and stdev of 0.02).\n",
    "6. Use Adam Stochastic Gradient Descent (e.g. learning rate of 0.0002 and beta1 of 0.5).\n",
    "7. Scale Images to the Range [-1,1] (e.g. use tanh in the output of the generator)."
   ]
  },
  {
   "cell_type": "code",
   "execution_count": 4,
   "metadata": {},
   "outputs": [
    {
     "name": "stdout",
     "output_type": "stream",
     "text": [
      "Model: \"sequential\"\n",
      "_________________________________________________________________\n",
      "Layer (type)                 Output Shape              Param #   \n",
      "=================================================================\n",
      "conv2d (Conv2D)              (None, 14, 14, 64)        640       \n",
      "_________________________________________________________________\n",
      "batch_normalization (BatchNo (None, 14, 14, 64)        256       \n",
      "_________________________________________________________________\n",
      "leaky_re_lu (LeakyReLU)      (None, 14, 14, 64)        0         \n",
      "_________________________________________________________________\n",
      "conv2d_1 (Conv2D)            (None, 7, 7, 64)          36928     \n",
      "_________________________________________________________________\n",
      "batch_normalization_1 (Batch (None, 7, 7, 64)          256       \n",
      "_________________________________________________________________\n",
      "leaky_re_lu_1 (LeakyReLU)    (None, 7, 7, 64)          0         \n",
      "_________________________________________________________________\n",
      "flatten (Flatten)            (None, 3136)              0         \n",
      "_________________________________________________________________\n",
      "dense (Dense)                (None, 1)                 3137      \n",
      "=================================================================\n",
      "Total params: 41,217\n",
      "Trainable params: 40,961\n",
      "Non-trainable params: 256\n",
      "_________________________________________________________________\n"
     ]
    }
   ],
   "source": [
    "# define the discriminator model\n",
    "discriminator = Sequential()\n",
    "# downsample to 14x14\n",
    "discriminator.add(Conv2D(64, (3,3), strides=(2, 2), padding='same', input_shape=(28,28,1)))\n",
    "discriminator.add(BatchNormalization())\n",
    "discriminator.add(LeakyReLU(alpha=0.2))\n",
    "# downsample to 7x7\n",
    "discriminator.add(Conv2D(64, (3,3), strides=(2, 2), padding='same'))\n",
    "discriminator.add(BatchNormalization())\n",
    "discriminator.add(LeakyReLU(alpha=0.2))\n",
    "# classify\n",
    "discriminator.add(Flatten())\n",
    "discriminator.add(Dense(1, activation='sigmoid'))\n",
    "discriminator.compile(loss='binary_crossentropy', optimizer='adam', metrics=['accuracy'])\n",
    "discriminator.summary()"
   ]
  },
  {
   "cell_type": "code",
   "execution_count": 5,
   "metadata": {},
   "outputs": [
    {
     "name": "stdout",
     "output_type": "stream",
     "text": [
      "Model: \"sequential_1\"\n",
      "_________________________________________________________________\n",
      "Layer (type)                 Output Shape              Param #   \n",
      "=================================================================\n",
      "dense_1 (Dense)              (None, 3136)              316736    \n",
      "_________________________________________________________________\n",
      "batch_normalization_2 (Batch (None, 3136)              12544     \n",
      "_________________________________________________________________\n",
      "leaky_re_lu_2 (LeakyReLU)    (None, 3136)              0         \n",
      "_________________________________________________________________\n",
      "reshape (Reshape)            (None, 7, 7, 64)          0         \n",
      "_________________________________________________________________\n",
      "conv2d_transpose (Conv2DTran (None, 14, 14, 64)        36928     \n",
      "_________________________________________________________________\n",
      "batch_normalization_3 (Batch (None, 14, 14, 64)        256       \n",
      "_________________________________________________________________\n",
      "leaky_re_lu_3 (LeakyReLU)    (None, 14, 14, 64)        0         \n",
      "_________________________________________________________________\n",
      "conv2d_transpose_1 (Conv2DTr (None, 28, 28, 64)        36928     \n",
      "_________________________________________________________________\n",
      "batch_normalization_4 (Batch (None, 28, 28, 64)        256       \n",
      "_________________________________________________________________\n",
      "leaky_re_lu_4 (LeakyReLU)    (None, 28, 28, 64)        0         \n",
      "_________________________________________________________________\n",
      "conv2d_2 (Conv2D)            (None, 28, 28, 1)         577       \n",
      "=================================================================\n",
      "Total params: 404,225\n",
      "Trainable params: 397,697\n",
      "Non-trainable params: 6,528\n",
      "_________________________________________________________________\n"
     ]
    }
   ],
   "source": [
    "# define the generator model\n",
    "generator = Sequential()\n",
    "# foundation for 7x7 image\n",
    "n_nodes = 64 * 7 * 7\n",
    "generator.add(Dense(n_nodes, input_dim=100))\n",
    "generator.add(BatchNormalization())\n",
    "generator.add(LeakyReLU(alpha=0.2))\n",
    "generator.add(Reshape((7, 7, 64)))\n",
    "# upsample to 14x14\n",
    "generator.add(Conv2DTranspose(64, (3,3), strides=(2,2), padding='same'))\n",
    "generator.add(BatchNormalization())\n",
    "generator.add(LeakyReLU(alpha=0.2))\n",
    "# upsample to 28x28\n",
    "generator.add(Conv2DTranspose(64, (3,3), strides=(2,2), padding='same'))\n",
    "generator.add(BatchNormalization())\n",
    "generator.add(LeakyReLU(alpha=0.2))\n",
    "generator.add(Conv2D(1, (3,3), activation='tanh', padding='same'))\n",
    "generator.summary()"
   ]
  },
  {
   "cell_type": "code",
   "execution_count": 6,
   "metadata": {
    "scrolled": true
   },
   "outputs": [
    {
     "name": "stdout",
     "output_type": "stream",
     "text": [
      "Model: \"sequential_2\"\n",
      "_________________________________________________________________\n",
      "Layer (type)                 Output Shape              Param #   \n",
      "=================================================================\n",
      "sequential_1 (Sequential)    (None, 28, 28, 1)         404225    \n",
      "_________________________________________________________________\n",
      "sequential (Sequential)      (None, 1)                 41217     \n",
      "=================================================================\n",
      "Total params: 445,442\n",
      "Trainable params: 397,697\n",
      "Non-trainable params: 47,745\n",
      "_________________________________________________________________\n"
     ]
    }
   ],
   "source": [
    "# make weights in the discriminator not trainable\n",
    "discriminator.trainable = False\n",
    "# connect them\n",
    "gan_model = Sequential()\n",
    "# add generator\n",
    "gan_model.add(generator)\n",
    "# add the discriminator\n",
    "gan_model.add(discriminator)\n",
    "# compile gan_model\n",
    "gan_model.compile(loss='binary_crossentropy', optimizer='adam')\n",
    "\n",
    "gan_model.summary()"
   ]
  },
  {
   "cell_type": "code",
   "execution_count": 10,
   "metadata": {},
   "outputs": [],
   "source": [
    "def select_real_samples(dataset, n_batch):\n",
    "    number_of_rows = dataset.shape[0]\n",
    "    random_indices = np.random.choice(number_of_rows, size=n_batch, replace=False)\n",
    "    random_rows = dataset[random_indices, :]\n",
    "    random_rows = np.expand_dims(random_rows,axis=3)\n",
    "    return random_rows, np.ones(n_batch)\n",
    "# n_batch = 1\n",
    "# select_real_samples(x_train, n_batch)[0].shape,select_real_samples(x_train, n_batch)[1].shape"
   ]
  },
  {
   "cell_type": "code",
   "execution_count": 11,
   "metadata": {},
   "outputs": [],
   "source": [
    "def generate_latent_points(latent_dim, n_batch):\n",
    "    # generate points in the latent space\n",
    "\tx_input = np.random.randn(latent_dim * n_batch)\n",
    "\t# reshape into a batch of inputs for the network\n",
    "\tx_input = x_input.reshape(n_batch, latent_dim)\n",
    "\treturn x_input\n",
    "\n",
    "# generate_latent_points(latent_dim, n_batch).shape"
   ]
  },
  {
   "cell_type": "code",
   "execution_count": 12,
   "metadata": {},
   "outputs": [],
   "source": [
    "def generate_fake_samples(generator, latent_dim, n_batch):\n",
    "    x_input = generate_latent_points(latent_dim, n_batch)\n",
    "    x_fake = generator.predict(x_input)\n",
    "    y_fake = np.zeros(n_batch)\n",
    "    return x_fake, y_fake\n",
    "\n",
    "# generate_fake_samples(generator, latent_dim, n_batch)[0].shape,generate_fake_samples(generator, latent_dim, n_batch)[1].shape\n",
    "\n",
    "# x_fake, y_fake = generate_fake_samples(generator, latent_dim, 1)\n",
    "# x_fake"
   ]
  },
  {
   "cell_type": "code",
   "execution_count": 13,
   "metadata": {
    "code_folding": []
   },
   "outputs": [],
   "source": [
    "# gan training algorithm\n",
    "def train(generator,discriminator,gan_model,n_batch=16,latent_dim=100,n_epochs=10):\n",
    "    latent_dim = 100\n",
    "    for i in range(n_epochs):\n",
    "        # get randomly selected 'real' samples\n",
    "        X_real, y_real = select_real_samples(x_train, n_batch)\n",
    "        # generate 'fake' examples\n",
    "        X_fake, y_fake = generate_fake_samples(generator, latent_dim, n_batch)\n",
    "        # create training set for the discriminator\n",
    "        X, y = np.vstack((X_real, X_fake)), np.hstack((y_real, y_fake))\n",
    "        # update discriminator model weights\n",
    "        d_loss = discriminator.train_on_batch(X, y)\n",
    "        # prepare points in latent space as input for the generator\n",
    "        X_gan = generate_latent_points(latent_dim, n_batch)\n",
    "        # create inverted labels for the fake samples\n",
    "        y_gan = np.ones((n_batch, 1))\n",
    "        # update the generator via the discriminator's error\n",
    "        g_loss = gan_model.train_on_batch(X_gan, y_gan)\n",
    "        \n",
    "        if i % 10 == 0:\n",
    "            print(\"Epoch\", i)\n",
    "        \n",
    "# train(generator,discriminator,gan_model,n_epochs=1)"
   ]
  },
  {
   "cell_type": "code",
   "execution_count": 140,
   "metadata": {
    "code_folding": [
     0
    ]
   },
   "outputs": [],
   "source": [
    "def testWeightFreeze(discriminator,generator,gan_model):\n",
    "    # discriminator changes\n",
    "    disc_weight_before = discriminator.non_trainable_weights[0][0][0][0][0].numpy()\n",
    "    gen_weight_before = generator.trainable_weights[0][0][0].numpy()\n",
    "    train(generator,discriminator,gan_model)\n",
    "    disc_weight_after = discriminator.non_trainable_weights[0][0][0][0][0].numpy()\n",
    "    gen_weight_after = generator.trainable_weights[0][0][0].numpy()\n",
    "\n",
    "    (disc_weight_before, disc_weight_after), (gen_weight_before,gen_weight_after)"
   ]
  },
  {
   "cell_type": "markdown",
   "metadata": {},
   "source": [
    "### Predictions"
   ]
  },
  {
   "cell_type": "code",
   "execution_count": 89,
   "metadata": {},
   "outputs": [],
   "source": [
    "import matplotlib.pyplot as plt"
   ]
  },
  {
   "cell_type": "code",
   "execution_count": 150,
   "metadata": {},
   "outputs": [
    {
     "data": {
      "text/plain": [
       "<matplotlib.image.AxesImage at 0x7fecacab9cc0>"
      ]
     },
     "execution_count": 150,
     "metadata": {},
     "output_type": "execute_result"
    },
    {
     "data": {
      "image/png": "[encoded data removed]",
      "text/plain": [
       "<Figure size 432x288 with 1 Axes>"
      ]
     },
     "metadata": {
      "needs_background": "light"
     },
     "output_type": "display_data"
    }
   ],
   "source": [
    "# prepare fake examples\n",
    "x_fake, y_fake = generate_fake_samples(generator, latent_dim, 1)\n",
    "generated_sample = x_fake[0].squeeze()\n",
    "plt.imshow(generated_sample)"
   ]
  },
  {
   "cell_type": "code",
   "execution_count": 110,
   "metadata": {},
   "outputs": [
    {
     "data": {
      "text/plain": [
       "<matplotlib.image.AxesImage at 0x7fecacb3e358>"
      ]
     },
     "execution_count": 110,
     "metadata": {},
     "output_type": "execute_result"
    },
    {
     "data": {
      "image/png": "[encoded data removed]",
      "text/plain": [
       "<Figure size 432x288 with 1 Axes>"
      ]
     },
     "metadata": {
      "needs_background": "light"
     },
     "output_type": "display_data"
    }
   ],
   "source": [
    "# prepare fake examples\n",
    "x_real, y_real = select_real_samples(x_train, 1)\n",
    "real_sample = x_real[0].squeeze()\n",
    "plt.imshow(real_sample)"
   ]
  },
  {
   "cell_type": "code",
   "execution_count": null,
   "metadata": {},
   "outputs": [],
   "source": []
  }
 ],
 "metadata": {
  "kernelspec": {
   "display_name": "Python 3",
   "language": "python",
   "name": "python3"
  },
  "language_info": {
   "codemirror_mode": {
    "name": "ipython",
    "version": 3
   },
   "file_extension": ".py",
   "mimetype": "text/x-python",
   "name": "python",
   "nbconvert_exporter": "python",
   "pygments_lexer": "ipython3",
   "version": "3.6.9"
  }
 },
 "nbformat": 4,
 "nbformat_minor": 4
}
