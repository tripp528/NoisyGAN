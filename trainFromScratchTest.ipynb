{
 "cells": [
  {
   "cell_type": "code",
   "execution_count": null,
   "metadata": {},
   "outputs": [],
   "source": []
  },
  {
   "cell_type": "code",
   "execution_count": 3,
   "metadata": {},
   "outputs": [
    {
     "name": "stdout",
     "output_type": "stream",
     "text": [
      "tf versionn:  2.1.0\n"
     ]
    }
   ],
   "source": [
    "from importlib import reload\n",
    "\n",
    "import my_ddsp_train_utils\n",
    "reload(my_ddsp_train_utils)\n",
    "from my_ddsp_train_utils import *"
   ]
  },
  {
   "cell_type": "code",
   "execution_count": null,
   "metadata": {},
   "outputs": [
    {
     "name": "stdout",
     "output_type": "stream",
     "text": [
      "found ./Data/piano/piano30s.wav\n"
     ]
    }
   ],
   "source": [
    "input_audio_filepatterns = \"./Data/piano/piano30s.wav\"\n",
    "output_tfrecord_path = './Data/piano/piano30s.tfrecord'\n",
    "buildTFRecords(input_audio_filepatterns, output_tfrecord_path)"
   ]
  },
  {
   "cell_type": "code",
   "execution_count": null,
   "metadata": {},
   "outputs": [],
   "source": []
  }
 ],
 "metadata": {
  "kernelspec": {
   "display_name": "Python 3",
   "language": "python",
   "name": "python3"
  },
  "language_info": {
   "codemirror_mode": {
    "name": "ipython",
    "version": 3
   },
   "file_extension": ".py",
   "mimetype": "text/x-python",
   "name": "python",
   "nbconvert_exporter": "python",
   "pygments_lexer": "ipython3",
   "version": "3.6.9"
  }
 },
 "nbformat": 4,
 "nbformat_minor": 4
}
